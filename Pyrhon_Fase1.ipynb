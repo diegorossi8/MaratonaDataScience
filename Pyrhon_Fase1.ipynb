{
  "cells": [
    {
      "cell_type": "markdown",
      "metadata": {
        "id": "view-in-github",
        "colab_type": "text"
      },
      "source": [
        "<a href=\"https://colab.research.google.com/github/diegorossi8/MaratonaDataScience/blob/main/Pyrhon_Fase1.ipynb\" target=\"_parent\"><img src=\"https://colab.research.google.com/assets/colab-badge.svg\" alt=\"Open In Colab\"/></a>"
      ]
    },
    {
      "cell_type": "markdown",
      "metadata": {
        "id": "CYNAmoj4zSXl"
      },
      "source": [
        "Crie um algoritmo em Python que mostre a mensagem \"Alo mundo\" na tela."
      ]
    },
    {
      "cell_type": "code",
      "execution_count": 1,
      "metadata": {
        "colab": {
          "base_uri": "https://localhost:8080/"
        },
        "id": "ViAfpy3GzPN-",
        "outputId": "1361677c-4b18-499d-85ba-df63339969de"
      },
      "outputs": [
        {
          "output_type": "stream",
          "name": "stdout",
          "text": [
            "Olá Mundo!\n"
          ]
        }
      ],
      "source": [
        "print(\"Olá Mundo!\")"
      ]
    },
    {
      "cell_type": "markdown",
      "metadata": {
        "id": "gdMis92izSmQ"
      },
      "source": [
        "Crie um algoritmo em Python que peça dois números e imprima a soma."
      ]
    },
    {
      "cell_type": "code",
      "execution_count": null,
      "metadata": {
        "id": "BFpWkdCBz_zh",
        "outputId": "e1aaa58c-78d7-4901-9c8f-7b2ba6d69680"
      },
      "outputs": [
        {
          "name": "stdout",
          "output_type": "stream",
          "text": [
            "Entre com o 1° valore10\n",
            "Entre com o 2° valore5\n",
            "15\n"
          ]
        }
      ],
      "source": [
        "x = int(input(\"Entre com o 1° valore\"))\n",
        "y = int(input(\"Entre com o 2° valore\"))\n",
        "print(x+y)"
      ]
    },
    {
      "cell_type": "markdown",
      "metadata": {
        "id": "E_0l_Vx6zSo2"
      },
      "source": [
        "Crie um algoritmo em Python que peça um número e então mostre a mensagem O número informado foi [número]."
      ]
    },
    {
      "cell_type": "code",
      "execution_count": null,
      "metadata": {
        "id": "KwJf7XZS0AZW",
        "outputId": "43ec9e27-b0e8-4beb-b66f-00895e741d51"
      },
      "outputs": [
        {
          "name": "stdout",
          "output_type": "stream",
          "text": [
            "Entre com o 1° valore10\n",
            "O numero informado foi 10 lalala\n"
          ]
        }
      ],
      "source": [
        "x = input(\"Entre com o 1° valore\")\n",
        "print(\"O numero informado foi\",x)"
      ]
    },
    {
      "cell_type": "markdown",
      "metadata": {
        "id": "1i4VCiiczSrL"
      },
      "source": [
        "Crie um algoritmo em Python que converta metros para centímetros."
      ]
    },
    {
      "cell_type": "code",
      "execution_count": 2,
      "metadata": {
        "colab": {
          "base_uri": "https://localhost:8080/"
        },
        "id": "yoW67hjA0BHy",
        "outputId": "c0b70265-d7b8-41ad-a6b8-a0b1e2007603"
      },
      "outputs": [
        {
          "output_type": "stream",
          "name": "stdout",
          "text": [
            "Entre com o valor em metros: 1\n",
            " O valor  1.0 metro é de  100.0  centimetros.\n"
          ]
        }
      ],
      "source": [
        "x = float(input(\"Entre com o valor em metros: \"))\n",
        "print(\" O valor \",x,\"metro é de \",x*100,\" centimetros.\")"
      ]
    },
    {
      "cell_type": "markdown",
      "metadata": {
        "id": "4ep7kezvzStO"
      },
      "source": [
        "Crie um algoritmo em Python que peça as 4 notas bimestrais e mostre a média."
      ]
    },
    {
      "cell_type": "code",
      "execution_count": 3,
      "metadata": {
        "colab": {
          "base_uri": "https://localhost:8080/"
        },
        "id": "6K6IHWdr0Blt",
        "outputId": "99f9a3ae-c7d1-4814-af66-8b4f5f82b9a0"
      },
      "outputs": [
        {
          "output_type": "stream",
          "name": "stdout",
          "text": [
            "informe 3 numeros: 10 12 14 19\n",
            "13.75\n"
          ]
        }
      ],
      "source": [
        "a,b,c,d = input('informe 3 numeros: ').split(\" \")\n",
        "media = (float(a)+float(b)+float(c)+float(d))/4\n",
        "print(media)"
      ]
    },
    {
      "cell_type": "markdown",
      "metadata": {
        "id": "u6__NaXqzeYg"
      },
      "source": [
        "Crie um algoritmo em Python que peça o raio de um círculo, calcule e mostre sua área."
      ]
    },
    {
      "cell_type": "code",
      "execution_count": 5,
      "metadata": {
        "colab": {
          "base_uri": "https://localhost:8080/"
        },
        "id": "mm2L7g3x0Cfx",
        "outputId": "5e6c1a5d-9521-4f3a-ad4d-571517665091"
      },
      "outputs": [
        {
          "output_type": "stream",
          "name": "stdout",
          "text": [
            "Entre com o raio do circulo: 5\n",
            "A area do circulo de raio  5.0  é  78.5 !\n"
          ]
        }
      ],
      "source": [
        "a = float(input(\"Entre com o raio do circulo: \"))\n",
        "print(\"A area do circulo de raio \",a,\" é \",(3.14*(a*a)),\"!\")"
      ]
    },
    {
      "cell_type": "markdown",
      "metadata": {
        "id": "lIlfG-ATzgOr"
      },
      "source": [
        "Crie um algoritmo em Python que calcule a área de um quadrado, em seguida mostre o dobro desta área para o usuário."
      ]
    },
    {
      "cell_type": "code",
      "execution_count": 6,
      "metadata": {
        "colab": {
          "base_uri": "https://localhost:8080/"
        },
        "id": "-y4pB6br0DD_",
        "outputId": "3e84b9af-ec47-4237-9c45-3777c4370d44"
      },
      "outputs": [
        {
          "output_type": "stream",
          "name": "stdout",
          "text": [
            "Entre com um dos lados do quadrado!2\n",
            "A area do quadrado é  4.0  e o dobro desta area é  8.0\n"
          ]
        }
      ],
      "source": [
        "a = float(input(\"Entre com um dos lados do quadrado! \"))\n",
        "print(\"A area do quadrado é \", a*a,\" e o dobro desta area é \",((a*a)*2))"
      ]
    },
    {
      "cell_type": "markdown",
      "metadata": {
        "id": "Vj4OXsJQziu_"
      },
      "source": [
        "Crie um algoritmo em Python que pergunte quanto você ganha por hora e o número de horas trabalhadas no mês. Calcule e mostre o total do seu salário no referido mês.\n"
      ]
    },
    {
      "cell_type": "code",
      "execution_count": 8,
      "metadata": {
        "colab": {
          "base_uri": "https://localhost:8080/"
        },
        "id": "RmApGpg30D00",
        "outputId": "a59cf824-9ffa-4afe-afc6-4caaab1e55fa"
      },
      "outputs": [
        {
          "output_type": "stream",
          "name": "stdout",
          "text": [
            "Entre com o valor de sua hora e as horas trabalhadas no mes10 10\n",
            "Seu salario nes mes é  100.0\n"
          ]
        }
      ],
      "source": [
        "a,b = input(\"Entre com o valor de sua hora e as horas trabalhadas no mes\").split(\" \")\n",
        "salario = float(a)*float(b)\n",
        "print(\"Seu salario nes mes é \",salario)"
      ]
    },
    {
      "cell_type": "markdown",
      "metadata": {
        "id": "e7id8Ewgzlow"
      },
      "source": [
        "Crie um algoritmo em Python que peça a temperatura em graus Farenheit, transforme e mostre a temperatura em graus Celsius.\n",
        "C = (5 * (F-32) / 9)."
      ]
    },
    {
      "cell_type": "code",
      "execution_count": 2,
      "metadata": {
        "colab": {
          "base_uri": "https://localhost:8080/"
        },
        "id": "Kl0ainsv0Eif",
        "outputId": "7576fc30-ebed-457d-93c2-482bf9d33b91"
      },
      "outputs": [
        {
          "output_type": "stream",
          "name": "stdout",
          "text": [
            "Entre com a temperatura em Farenheit: 10\n",
            "A temperatura de  10.0  Farenheit equivale a  -110.0 Celaius.\n"
          ]
        }
      ],
      "source": [
        "F = float(input(\"Entre com a temperatura em Farenheit: \"))\n",
        "C = (5 * (F-32))\n",
        "print(\"A temperatura de \",F, \" Farenheit equivale a \",C, \"Celsius.\")"
      ]
    },
    {
      "cell_type": "markdown",
      "metadata": {
        "id": "mFCgXRPaznno"
      },
      "source": [
        "Crie um algoritmo em Python que peça a temperatura em graus Celsius, transforme e mostre em graus Farenheit."
      ]
    },
    {
      "cell_type": "code",
      "execution_count": 3,
      "metadata": {
        "colab": {
          "base_uri": "https://localhost:8080/"
        },
        "id": "xEAAHRi00FS8",
        "outputId": "e16ebe25-0666-42f9-c5f0-1d2850a28b50"
      },
      "outputs": [
        {
          "output_type": "stream",
          "name": "stdout",
          "text": [
            "Entre com a temperatura em Celsius: -110\n",
            "A temperatura de  -110.0  Celsius  equivale a  10.0 Farenheit.\n"
          ]
        }
      ],
      "source": [
        "F = float(input(\"Entre com a temperatura em Celsius: \"))\n",
        "C = ((160+F)/5)\n",
        "print(\"A temperatura de \",F, \" Celsius  equivale a \",C, \"Farenheit.\")"
      ]
    },
    {
      "cell_type": "markdown",
      "metadata": {
        "id": "j3fdhu-8zqu9"
      },
      "source": [
        "Crie um algoritmo em Python que peça 2 números inteiros e um número real. Calcule e mostre:\n",
        "* a soma do dobro do primeiro com metade do segundo .\n",
        "* a soma do triplo do primeiro com o terceiro.\n",
        "* o terceiro elevado ao cubo."
      ]
    },
    {
      "cell_type": "code",
      "execution_count": 5,
      "metadata": {
        "colab": {
          "base_uri": "https://localhost:8080/"
        },
        "id": "ZEqZrKjt0F5B",
        "outputId": "0b91151c-b5ed-4d1a-81e3-1ce015397608"
      },
      "outputs": [
        {
          "output_type": "stream",
          "name": "stdout",
          "text": [
            "Entre com os dois primeiros valores inteiros e terceiro real. 2 3 4.5\n",
            "a soma do dobro do primeiro com metade do segundo 5.5\n",
            "a soma do triplo do primeiro com o terceiro  10.5\n",
            "o terceiro elevado ao cubo. 20.25\n"
          ]
        }
      ],
      "source": [
        "x,y,z = input(\"Entre com os dois primeiros valores inteiros e terceiro real. \").split(\" \")\n",
        "print(\"a soma do dobro do primeiro com metade do segundo\",((int(x)*2)+(int(y)/2)))\n",
        "print(\"a soma do triplo do primeiro com o terceiro \", ((int(x)*3)+float(z)))\n",
        "print(\"o terceiro elevado ao cubo.\",float(z)*float(z) )"
      ]
    },
    {
      "cell_type": "code",
      "source": [
        ""
      ],
      "metadata": {
        "id": "1FE7F7xO1bdS"
      },
      "execution_count": null,
      "outputs": []
    }
  ],
  "metadata": {
    "colab": {
      "name": "Fase1.ipynb",
      "provenance": [],
      "include_colab_link": true
    },
    "kernelspec": {
      "display_name": "Python 3 (ipykernel)",
      "language": "python",
      "name": "python3"
    },
    "language_info": {
      "codemirror_mode": {
        "name": "ipython",
        "version": 3
      },
      "file_extension": ".py",
      "mimetype": "text/x-python",
      "name": "python",
      "nbconvert_exporter": "python",
      "pygments_lexer": "ipython3",
      "version": "3.7.1"
    }
  },
  "nbformat": 4,
  "nbformat_minor": 0
}